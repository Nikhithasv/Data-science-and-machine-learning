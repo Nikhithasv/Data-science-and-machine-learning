{
 "cells": [
  {
   "cell_type": "code",
   "execution_count": null,
   "metadata": {
    "colab": {
     "base_uri": "https://localhost:8080/"
    },
    "executionInfo": {
     "elapsed": 374,
     "status": "ok",
     "timestamp": 1673165764221,
     "user": {
      "displayName": "Jeevarajan R",
      "userId": "14861755845428718237"
     },
     "user_tz": -330
    },
    "id": "o9-jwTvi2lNC",
    "outputId": "99524549-ca63-42a7-c41d-8e5de42a28b7"
   },
   "outputs": [
    {
     "name": "stdout",
     "output_type": "stream",
     "text": [
      "Hello World! 3 + 2\n"
     ]
    }
   ],
   "source": [
    "print(\"Hello World! {1} + {0}\".format(2,3))"
   ]
  },
  {
   "cell_type": "code",
   "execution_count": null,
   "metadata": {
    "colab": {
     "base_uri": "https://localhost:8080/"
    },
    "executionInfo": {
     "elapsed": 7,
     "status": "ok",
     "timestamp": 1673157016545,
     "user": {
      "displayName": "Jeevarajan R",
      "userId": "14861755845428718237"
     },
     "user_tz": -330
    },
    "id": "fneGIGgo5Yz7",
    "outputId": "9f7ddc2b-4368-4fc1-c3ba-08d7669e99c0"
   },
   "outputs": [
    {
     "name": "stdout",
     "output_type": "stream",
     "text": [
      "a\n"
     ]
    }
   ],
   "source": [
    "a=11\n",
    "b='a'\n",
    "if(a>10):\n",
    " print(b)\n"
   ]
  },
  {
   "cell_type": "code",
   "execution_count": null,
   "metadata": {
    "id": "aP5puprW6TvC"
   },
   "outputs": [],
   "source": [
    "a,b = 1,2"
   ]
  },
  {
   "cell_type": "code",
   "execution_count": null,
   "metadata": {
    "colab": {
     "base_uri": "https://localhost:8080/"
    },
    "executionInfo": {
     "elapsed": 8,
     "status": "ok",
     "timestamp": 1673157204896,
     "user": {
      "displayName": "Jeevarajan R",
      "userId": "14861755845428718237"
     },
     "user_tz": -330
    },
    "id": "efUte6Ih8CDD",
    "outputId": "61b0fb3b-ba75-4479-e590-4fa39b92279a"
   },
   "outputs": [
    {
     "data": {
      "text/plain": [
       "6"
      ]
     },
     "execution_count": 18,
     "metadata": {},
     "output_type": "execute_result"
    }
   ],
   "source": [
    "a"
   ]
  },
  {
   "cell_type": "code",
   "execution_count": null,
   "metadata": {
    "colab": {
     "base_uri": "https://localhost:8080/"
    },
    "executionInfo": {
     "elapsed": 16,
     "status": "ok",
     "timestamp": 1673157177781,
     "user": {
      "displayName": "Jeevarajan R",
      "userId": "14861755845428718237"
     },
     "user_tz": -330
    },
    "id": "bsOEr1av8FSR",
    "outputId": "fa0e2185-0235-485c-c94b-6de455aa47d8"
   },
   "outputs": [
    {
     "data": {
      "text/plain": [
       "2"
      ]
     },
     "execution_count": 16,
     "metadata": {},
     "output_type": "execute_result"
    }
   ],
   "source": [
    "b"
   ]
  },
  {
   "cell_type": "code",
   "execution_count": null,
   "metadata": {
    "id": "VrgIxYcL8Gyp"
   },
   "outputs": [],
   "source": [
    "a=6"
   ]
  },
  {
   "cell_type": "code",
   "execution_count": null,
   "metadata": {
    "colab": {
     "base_uri": "https://localhost:8080/"
    },
    "executionInfo": {
     "elapsed": 15,
     "status": "ok",
     "timestamp": 1673157248225,
     "user": {
      "displayName": "Jeevarajan R",
      "userId": "14861755845428718237"
     },
     "user_tz": -330
    },
    "id": "YzM1zB5S8MwB",
    "outputId": "25027d2b-73ba-48a6-8866-8eb4631c2786"
   },
   "outputs": [
    {
     "name": "stdout",
     "output_type": "stream",
     "text": [
      "5\n"
     ]
    }
   ],
   "source": [
    "a=5\n",
    "print(a)\n",
    "a=6"
   ]
  },
  {
   "cell_type": "code",
   "execution_count": null,
   "metadata": {
    "colab": {
     "base_uri": "https://localhost:8080/"
    },
    "executionInfo": {
     "elapsed": 13,
     "status": "ok",
     "timestamp": 1673157267433,
     "user": {
      "displayName": "Jeevarajan R",
      "userId": "14861755845428718237"
     },
     "user_tz": -330
    },
    "id": "Ps136Ctg8X-5",
    "outputId": "8be294a0-7073-40b6-a4b2-ace50228cf27"
   },
   "outputs": [
    {
     "name": "stdout",
     "output_type": "stream",
     "text": [
      "6\n"
     ]
    }
   ],
   "source": [
    "print(a)"
   ]
  },
  {
   "cell_type": "code",
   "execution_count": null,
   "metadata": {
    "colab": {
     "base_uri": "https://localhost:8080/"
    },
    "executionInfo": {
     "elapsed": 14,
     "status": "ok",
     "timestamp": 1673157389712,
     "user": {
      "displayName": "Jeevarajan R",
      "userId": "14861755845428718237"
     },
     "user_tz": -330
    },
    "id": "b3qpn_kJ8coy",
    "outputId": "8e0069de-0ed7-4584-cf51-69b0748064ad"
   },
   "outputs": [
    {
     "name": "stdout",
     "output_type": "stream",
     "text": [
      "['h', 'e', 'l', 'l', 'o']\n"
     ]
    }
   ],
   "source": [
    "a='hello'\n",
    "b=list(a)\n",
    "print(b)"
   ]
  },
  {
   "cell_type": "code",
   "execution_count": null,
   "metadata": {
    "colab": {
     "base_uri": "https://localhost:8080/"
    },
    "executionInfo": {
     "elapsed": 400,
     "status": "ok",
     "timestamp": 1673157423395,
     "user": {
      "displayName": "Jeevarajan R",
      "userId": "14861755845428718237"
     },
     "user_tz": -330
    },
    "id": "U7uWYGSX8xv5",
    "outputId": "d48a5d1e-8006-4cc3-c379-7b664f06223e"
   },
   "outputs": [
    {
     "name": "stdout",
     "output_type": "stream",
     "text": [
      "l\n"
     ]
    }
   ],
   "source": [
    "print(b[2])"
   ]
  },
  {
   "cell_type": "code",
   "execution_count": null,
   "metadata": {
    "id": "72XwWuBz9CeB"
   },
   "outputs": [],
   "source": [
    "a=[1,2,3,4]"
   ]
  },
  {
   "cell_type": "code",
   "execution_count": null,
   "metadata": {
    "colab": {
     "base_uri": "https://localhost:8080/"
    },
    "executionInfo": {
     "elapsed": 6,
     "status": "ok",
     "timestamp": 1673157536854,
     "user": {
      "displayName": "Jeevarajan R",
      "userId": "14861755845428718237"
     },
     "user_tz": -330
    },
    "id": "JwVOfbvS9Tba",
    "outputId": "b3a8099f-183a-4801-a6e2-40eedb333087"
   },
   "outputs": [
    {
     "name": "stdout",
     "output_type": "stream",
     "text": [
      "[1, 2, 3, 4]\n"
     ]
    }
   ],
   "source": [
    "print(a)"
   ]
  },
  {
   "cell_type": "code",
   "execution_count": null,
   "metadata": {
    "id": "43e3EsjC9Uyh"
   },
   "outputs": [],
   "source": [
    "a.append(5)\n"
   ]
  },
  {
   "cell_type": "code",
   "execution_count": null,
   "metadata": {
    "colab": {
     "base_uri": "https://localhost:8080/"
    },
    "executionInfo": {
     "elapsed": 6,
     "status": "ok",
     "timestamp": 1673157849511,
     "user": {
      "displayName": "Jeevarajan R",
      "userId": "14861755845428718237"
     },
     "user_tz": -330
    },
    "id": "TOvJ4JQ9-eEJ",
    "outputId": "9e8c4f89-6f4f-4613-ba00-95a592704b76"
   },
   "outputs": [
    {
     "data": {
      "text/plain": [
       "[1, 2, 3, 4, 5, 5]"
      ]
     },
     "execution_count": 37,
     "metadata": {},
     "output_type": "execute_result"
    }
   ],
   "source": [
    "a"
   ]
  },
  {
   "cell_type": "code",
   "execution_count": null,
   "metadata": {
    "colab": {
     "base_uri": "https://localhost:8080/",
     "height": 189
    },
    "executionInfo": {
     "elapsed": 10,
     "status": "error",
     "timestamp": 1673158584831,
     "user": {
      "displayName": "Jeevarajan R",
      "userId": "14861755845428718237"
     },
     "user_tz": -330
    },
    "id": "UJtNJ3gU-fFh",
    "outputId": "0d076adf-deec-4132-8d3f-077cafaf8c37"
   },
   "outputs": [
    {
     "ename": "TypeError",
     "evalue": "ignored",
     "output_type": "error",
     "traceback": [
      "\u001b[0;31m---------------------------------------------------------------------------\u001b[0m",
      "\u001b[0;31mTypeError\u001b[0m                                 Traceback (most recent call last)",
      "\u001b[0;32m<ipython-input-53-405f598ea214>\u001b[0m in \u001b[0;36m<module>\u001b[0;34m\u001b[0m\n\u001b[0;32m----> 1\u001b[0;31m \u001b[0ma\u001b[0m\u001b[0;34m=\u001b[0m\u001b[0mint\u001b[0m\u001b[0;34m(\u001b[0m\u001b[0minput\u001b[0m\u001b[0;34m(\u001b[0m\u001b[0;34m)\u001b[0m\u001b[0;34m)\u001b[0m\u001b[0;34m\u001b[0m\u001b[0;34m\u001b[0m\u001b[0m\n\u001b[0m\u001b[1;32m      2\u001b[0m \u001b[0;32mdel\u001b[0m \u001b[0ma\u001b[0m\u001b[0;34m\u001b[0m\u001b[0;34m\u001b[0m\u001b[0m\n",
      "\u001b[0;31mTypeError\u001b[0m: 'str' object is not callable"
     ]
    }
   ],
   "source": [
    "a=int(input())\n",
    "del a"
   ]
  },
  {
   "cell_type": "code",
   "execution_count": null,
   "metadata": {
    "id": "CcGmBmhN_L35"
   },
   "outputs": [],
   "source": [
    "a=[1,2]\n",
    "b=[4,3]\n",
    "c=[]"
   ]
  },
  {
   "cell_type": "code",
   "execution_count": null,
   "metadata": {
    "colab": {
     "base_uri": "https://localhost:8080/"
    },
    "executionInfo": {
     "elapsed": 12,
     "status": "ok",
     "timestamp": 1673159421119,
     "user": {
      "displayName": "Jeevarajan R",
      "userId": "14861755845428718237"
     },
     "user_tz": -330
    },
    "id": "_Vfo36gp_-Yu",
    "outputId": "419fa43f-5b64-40b4-9c24-79a16d194c18"
   },
   "outputs": [
    {
     "name": "stdout",
     "output_type": "stream",
     "text": [
      "0\n",
      "1\n",
      "2\n",
      "3\n",
      "4\n",
      "5\n",
      "6\n",
      "7\n",
      "8\n",
      "9\n"
     ]
    }
   ],
   "source": [
    "n=10 #int(input(\"Enter the number:\"))\n",
    "for i in range(0,n):\n",
    "  print(i)"
   ]
  },
  {
   "cell_type": "code",
   "execution_count": null,
   "metadata": {
    "id": "jqWYsnrCDrfO"
   },
   "outputs": [],
   "source": [
    "a,b=1,'2'"
   ]
  },
  {
   "cell_type": "code",
   "execution_count": null,
   "metadata": {
    "colab": {
     "base_uri": "https://localhost:8080/"
    },
    "executionInfo": {
     "elapsed": 13,
     "status": "ok",
     "timestamp": 1673159856896,
     "user": {
      "displayName": "Jeevarajan R",
      "userId": "14861755845428718237"
     },
     "user_tz": -330
    },
    "id": "5WkWOOUDGSNs",
    "outputId": "678e3244-c075-4598-b719-24f9db66893e"
   },
   "outputs": [
    {
     "name": "stdout",
     "output_type": "stream",
     "text": [
      "1 2\n"
     ]
    }
   ],
   "source": [
    "print(a,b)"
   ]
  },
  {
   "cell_type": "code",
   "execution_count": null,
   "metadata": {
    "colab": {
     "base_uri": "https://localhost:8080/"
    },
    "executionInfo": {
     "elapsed": 5,
     "status": "ok",
     "timestamp": 1673159879962,
     "user": {
      "displayName": "Jeevarajan R",
      "userId": "14861755845428718237"
     },
     "user_tz": -330
    },
    "id": "0uZxhDLPGUp0",
    "outputId": "592c475b-4986-4d97-e6b9-3699d7ec85d3"
   },
   "outputs": [
    {
     "name": "stdout",
     "output_type": "stream",
     "text": [
      "<class 'int'>\n",
      "<class 'str'>\n"
     ]
    }
   ],
   "source": [
    "print(type(a))\n",
    "print(type(b))"
   ]
  },
  {
   "cell_type": "code",
   "execution_count": null,
   "metadata": {
    "id": "d3L5HOxmGaXk"
   },
   "outputs": [],
   "source": [
    "d=add(5,9)"
   ]
  },
  {
   "cell_type": "code",
   "execution_count": null,
   "metadata": {
    "id": "uNzG8_QXGsoR"
   },
   "outputs": [],
   "source": [
    "def add(a,b):\n",
    "  return a+b"
   ]
  },
  {
   "cell_type": "code",
   "execution_count": null,
   "metadata": {
    "colab": {
     "base_uri": "https://localhost:8080/"
    },
    "executionInfo": {
     "elapsed": 404,
     "status": "ok",
     "timestamp": 1673161070798,
     "user": {
      "displayName": "Jeevarajan R",
      "userId": "14861755845428718237"
     },
     "user_tz": -330
    },
    "id": "IW0kKJaGGwOJ",
    "outputId": "a9f72b00-a2b8-4b2f-bebe-a043763559ec"
   },
   "outputs": [
    {
     "name": "stdout",
     "output_type": "stream",
     "text": [
      "3\n",
      "4\n"
     ]
    }
   ],
   "source": [
    "import math as m\n",
    "p=3.1\n",
    "print(m.floor(p))\n",
    "print(m.ceil(p))"
   ]
  },
  {
   "cell_type": "code",
   "execution_count": null,
   "metadata": {
    "colab": {
     "base_uri": "https://localhost:8080/"
    },
    "executionInfo": {
     "elapsed": 5,
     "status": "ok",
     "timestamp": 1673161913595,
     "user": {
      "displayName": "Jeevarajan R",
      "userId": "14861755845428718237"
     },
     "user_tz": -330
    },
    "id": "IlJTd5R0IJB0",
    "outputId": "08ee6055-b8fc-4105-d8b0-9fdd3c0d9a8b"
   },
   "outputs": [
    {
     "data": {
      "text/plain": [
       "14"
      ]
     },
     "execution_count": 115,
     "metadata": {},
     "output_type": "execute_result"
    }
   ],
   "source": [
    "d"
   ]
  },
  {
   "cell_type": "code",
   "execution_count": null,
   "metadata": {
    "colab": {
     "base_uri": "https://localhost:8080/"
    },
    "executionInfo": {
     "elapsed": 7,
     "status": "ok",
     "timestamp": 1673161953717,
     "user": {
      "displayName": "Jeevarajan R",
      "userId": "14861755845428718237"
     },
     "user_tz": -330
    },
    "id": "846C8y8SOK6z",
    "outputId": "c4502be4-f7b9-488e-f0bd-06f2558303a8"
   },
   "outputs": [
    {
     "name": "stdout",
     "output_type": "stream",
     "text": [
      "21\n"
     ]
    }
   ],
   "source": [
    "print(add(10,11))"
   ]
  },
  {
   "cell_type": "code",
   "execution_count": null,
   "metadata": {
    "colab": {
     "base_uri": "https://localhost:8080/"
    },
    "executionInfo": {
     "elapsed": 11,
     "status": "ok",
     "timestamp": 1673161994864,
     "user": {
      "displayName": "Jeevarajan R",
      "userId": "14861755845428718237"
     },
     "user_tz": -330
    },
    "id": "zZ4jASInOU5E",
    "outputId": "1ec3a34b-aead-445e-ff39-f599f6b9cba5"
   },
   "outputs": [
    {
     "name": "stdout",
     "output_type": "stream",
     "text": [
      "20\n"
     ]
    }
   ],
   "source": [
    "print(add(d,6))"
   ]
  },
  {
   "cell_type": "code",
   "execution_count": null,
   "metadata": {
    "colab": {
     "base_uri": "https://localhost:8080/"
    },
    "executionInfo": {
     "elapsed": 15,
     "status": "ok",
     "timestamp": 1673163284999,
     "user": {
      "displayName": "Jeevarajan R",
      "userId": "14861755845428718237"
     },
     "user_tz": -330
    },
    "id": "UVZVawGiOe10",
    "outputId": "a4361e0f-96aa-4b4c-b9a3-170805f3ec02"
   },
   "outputs": [
    {
     "name": "stdout",
     "output_type": "stream",
     "text": [
      "27\n",
      "58\n",
      "48\n",
      "60\n",
      "23\n",
      "49\n",
      "80\n",
      "75\n",
      "21\n",
      "78\n"
     ]
    }
   ],
   "source": [
    "import random\n",
    "for i in range(0,10):\n",
    "  #print()\n",
    "  print(random.randrange(1, 100))"
   ]
  },
  {
   "cell_type": "code",
   "execution_count": null,
   "metadata": {
    "colab": {
     "base_uri": "https://localhost:8080/"
    },
    "executionInfo": {
     "elapsed": 477,
     "status": "ok",
     "timestamp": 1673166001767,
     "user": {
      "displayName": "Jeevarajan R",
      "userId": "14861755845428718237"
     },
     "user_tz": -330
    },
    "id": "5j2kfoQjRQH5",
    "outputId": "7f9ae336-a87f-454f-9adf-d1d84be6b544"
   },
   "outputs": [
    {
     "name": "stdout",
     "output_type": "stream",
     "text": [
      "* * * * * \n",
      "* * * * * \n",
      "* * * * * \n",
      "* * * * * \n",
      "* * * * * \n"
     ]
    }
   ],
   "source": [
    "for i in range(0,5):\n",
    "  for j in range(5,):\n",
    "    print('*',end=' ')\n",
    "  print()"
   ]
  },
  {
   "cell_type": "code",
   "execution_count": null,
   "metadata": {
    "id": "No7MArcbavyv"
   },
   "outputs": [],
   "source": []
  }
 ],
 "metadata": {
  "accelerator": "GPU",
  "colab": {
   "provenance": []
  },
  "gpuClass": "standard",
  "kernelspec": {
   "display_name": "Python 3 (ipykernel)",
   "language": "python",
   "name": "python3"
  },
  "language_info": {
   "codemirror_mode": {
    "name": "ipython",
    "version": 3
   },
   "file_extension": ".py",
   "mimetype": "text/x-python",
   "name": "python",
   "nbconvert_exporter": "python",
   "pygments_lexer": "ipython3",
   "version": "3.11.4"
  }
 },
 "nbformat": 4,
 "nbformat_minor": 1
}
